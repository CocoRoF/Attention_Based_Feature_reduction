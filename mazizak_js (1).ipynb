{
 "cells": [
  {
   "cell_type": "code",
   "execution_count": 27,
   "metadata": {},
   "outputs": [],
   "source": [
    "import numpy as np\n",
    "from sklearn.manifold import TSNE\n",
    "\n",
    "def soft_max(x):\n",
    "    exp_x = np.exp(x - np.max(x))\n",
    "    return exp_x / exp_x.sum(axis=0, keepdims=True)\n",
    "\n",
    "def threshold_below(arr, threshold):\n",
    "    return np.where(arr <= threshold, 0, arr)\n",
    "\n",
    "class TSNE_attention():\n",
    "    def __init__(self, array: np.array, n_components: int, dim_info: int):\n",
    "        self.array = array\n",
    "        self.n_components = n_components\n",
    "        self.dim_info = dim_info\n",
    "        self.n_col = len(array[0])\n",
    "        \n",
    "        # t-SNE를 사용해서 데이터의 임베딩을 얻음\n",
    "        self.embeddings = self.apply_tsne()\n",
    "        \n",
    "        # 얻어진 임베딩을 Query와 Key로 사용\n",
    "        self.attention_query = self.embeddings[:dim_info]\n",
    "        self.attention_key = self.embeddings[dim_info:2*dim_info]\n",
    "        \n",
    "    def apply_tsne(self):\n",
    "        if self.dim_info <= 4:\n",
    "            tsne = TSNE(n_components=self.dim_info)\n",
    "        else:\n",
    "            tsne = TSNE(n_components=self.dim_info, method='exact')\n",
    "        return tsne.fit_transform(self.array)\n",
    "\n",
    "\n",
    "    def attention(self, threshold: bool = False, threshold_value: float = 0.05):\n",
    "        query_matrix = self.embeddings[:self.dim_info]\n",
    "        key_matrix = self.embeddings[self.dim_info:2*self.dim_info]\n",
    "        \n",
    "        attention_score = query_matrix.dot(key_matrix.T)\n",
    "        attention_score = np.apply_along_axis(soft_max, axis=1, arr=attention_score)\n",
    "        \n",
    "        if threshold:\n",
    "            return threshold_below(attention_score, threshold_value)\n",
    "        else:\n",
    "            return attention_score\n",
    "\n",
    "\n"
   ]
  },
  {
   "cell_type": "code",
   "execution_count": null,
   "metadata": {},
   "outputs": [],
   "source": [
    "#  def attention(self, threshold: bool = False, threshold_value: float = 0.1):\n",
    "#         query_matrix = self.attention_query\n",
    "#         key_matrix = self.attention_key\n",
    "#         attention_score = np.apply_along_axis(soft_max, axis=1, arr=(query_matrix.dot(key_matrix.T)))\n",
    "        \n",
    "#         if threshold:\n",
    "#             return threshold_below(attention_score, threshold_value)\n",
    "#         else:\n",
    "#             return attention_score  \n",
    "\n",
    "\n",
    "def attention(self, threshold: bool = False, threshold_value: float = 0.1):\n",
    "        query_matrix = self.embeddings[:self.dim_info]\n",
    "        key_matrix = self.embeddings[self.dim_info:2*self.dim_info]\n",
    "        \n",
    "        attention_score = query_matrix.dot(key_matrix.T)\n",
    "        attention_score = np.apply_along_axis(soft_max, axis=1, arr=attention_score)\n",
    "        \n",
    "        if threshold:\n",
    "            return threshold_below(attention_score, threshold_value)\n",
    "        else:\n",
    "            return attention_score"
   ]
  },
  {
   "cell_type": "code",
   "execution_count": 9,
   "metadata": {},
   "outputs": [
    {
     "name": "stdout",
     "output_type": "stream",
     "text": [
      "t-SNE Result:\n",
      " [[ -9.350981     4.518563     0.87246007]\n",
      " [ -9.642999     3.4841146    2.7946773 ]\n",
      " [-10.252443     3.1136777    2.069078  ]\n",
      " [ -9.774651     2.3975914    2.3486736 ]\n",
      " [ -9.440605     4.1338167    0.4413081 ]\n",
      " [ -8.062143     5.155597    -0.5055862 ]\n",
      " [-10.117939     2.7224593    1.4000645 ]\n",
      " [ -9.131928     3.878818     1.2626442 ]\n",
      " [-10.3558445    2.198988     2.8334596 ]\n",
      " [ -9.272717     3.3894575    2.489817  ]\n",
      " [ -8.577934     5.3946557    0.16126953]\n",
      " [ -9.148348     3.020916     1.3003525 ]\n",
      " [ -9.815205     3.1410995    2.8210135 ]\n",
      " [-10.9906645    2.4234931    2.5991864 ]\n",
      " [ -8.693689     6.2415657   -0.5896976 ]\n",
      " [ -8.399846     5.9496574   -1.1169597 ]\n",
      " [ -8.982227     5.6069508   -0.42459607]\n",
      " [ -9.125455     4.397391     0.8165352 ]\n",
      " [ -7.983601     5.7974877   -0.23800497]\n",
      " [ -8.890529     4.501139    -0.2528285 ]\n",
      " [ -8.073598     5.186797     1.0251501 ]\n",
      " [ -8.603398     4.292098     0.08324241]\n",
      " [-10.838895     3.1880758    1.0097841 ]\n",
      " [ -7.9691305    3.8443656    1.3358972 ]\n",
      " [ -8.495116     2.646157     1.3040496 ]\n",
      " [ -8.858126     3.4028907    2.7190013 ]\n",
      " [ -8.429928     3.7265134    1.1518829 ]\n",
      " [ -8.825106     4.7638307    0.8664945 ]\n",
      " [ -9.110402     4.827464     1.2918183 ]\n",
      " [ -9.325327     2.5873156    1.9724154 ]\n",
      " [ -9.121819     2.799537     2.350419  ]\n",
      " [ -8.283717     5.214811     1.0627383 ]\n",
      " [ -8.849283     5.0399013   -0.968821  ]\n",
      " [ -8.674976     5.7219105   -0.9818047 ]\n",
      " [ -9.239414     3.3528678    2.397674  ]\n",
      " [ -9.960553     4.109429     2.1235483 ]\n",
      " [ -8.849306     5.7528634    0.72879905]\n",
      " [ -9.703435     3.801965     0.4946596 ]\n",
      " [-10.58174      2.3300142    2.5934913 ]\n",
      " [ -8.952696     4.3223786    1.3277699 ]\n",
      " [ -9.722015     4.2304783    0.8829201 ]\n",
      " [-10.369218     2.429235     3.6413536 ]\n",
      " [-10.641893     2.3918707    2.0473409 ]\n",
      " [ -7.9991536    3.7490253    0.73974985]\n",
      " [ -7.880151     4.263478    -0.35326666]\n",
      " [ -9.718458     3.0397573    2.8251941 ]\n",
      " [ -8.760403     4.459462    -0.32587796]\n",
      " [-10.090242     2.6141007    2.0007105 ]\n",
      " [ -8.769246     5.1144323    0.13823305]\n",
      " [ -9.425144     4.019413     1.7187936 ]\n",
      " [  4.4042892   -3.8770006   -2.1966918 ]\n",
      " [  2.9639502   -3.8147144   -2.1040096 ]\n",
      " [  4.543076    -3.5390396   -1.9284067 ]\n",
      " [ -0.26456562  -5.7401953   -0.17363156]\n",
      " [  3.465083    -4.061514    -1.2704487 ]\n",
      " [  0.78924376  -4.2625737   -0.84712905]\n",
      " [  2.8146198   -3.159315    -2.023173  ]\n",
      " [ -1.34385     -6.701703    -0.77637255]\n",
      " [  3.6434855   -4.275218    -1.6388439 ]\n",
      " [ -0.8032211   -5.359019    -0.8667717 ]\n",
      " [ -1.2704208   -6.6267543   -0.45085815]\n",
      " [  1.1440111   -4.576698    -1.6409607 ]\n",
      " [  0.7953402   -6.259687    -0.1086184 ]\n",
      " [  2.3372617   -3.6898394   -1.0190364 ]\n",
      " [ -0.2958996   -6.009335    -1.580444  ]\n",
      " [  3.6270757   -4.2988353   -2.169576  ]\n",
      " [  0.6037846   -3.8200192   -1.1457913 ]\n",
      " [  0.7548908   -5.7139463   -0.8265821 ]\n",
      " [  2.6696544   -4.5527053    0.387772  ]\n",
      " [  0.03272339  -6.0396814   -0.59856105]\n",
      " [  2.1217542   -2.3211274   -1.2250642 ]\n",
      " [  1.3898677   -5.508094    -1.3951541 ]\n",
      " [  3.3008516   -3.3625135    0.09997601]\n",
      " [  2.3106484   -4.0675673   -0.8220592 ]\n",
      " [  2.7668521   -4.727178    -1.6839644 ]\n",
      " [  3.404897    -4.3961616   -1.9624566 ]\n",
      " [  4.2878      -3.9047532   -1.5725093 ]\n",
      " [  4.6248174   -2.891073    -1.454349  ]\n",
      " [  1.7944174   -3.9108758   -1.2367481 ]\n",
      " [ -0.19317251  -6.627462    -1.1016234 ]\n",
      " [ -0.31332594  -6.2016044   -0.49032614]\n",
      " [ -0.36058885  -6.462874    -0.5934961 ]\n",
      " [  0.45359987  -5.8950357   -1.2016934 ]\n",
      " [  2.9969966   -2.3607128    0.14645779]\n",
      " [  0.19381621  -3.8254452   -1.0175945 ]\n",
      " [  1.9160132   -3.1593046   -2.0456963 ]\n",
      " [  4.002946    -3.7453313   -1.9681522 ]\n",
      " [  2.573383    -4.796067     0.19367984]\n",
      " [  0.16071692  -4.9096003   -1.5304449 ]\n",
      " [ -0.2567101   -5.529444    -0.5476401 ]\n",
      " [  0.12410848  -4.7266445   -0.43965587]\n",
      " [  2.1941419   -3.807951    -1.336296  ]\n",
      " [  0.5669749   -5.795423    -0.8127463 ]\n",
      " [ -1.2885258   -6.7072706   -0.739985  ]\n",
      " [  0.20401987  -4.9820013   -0.7960291 ]\n",
      " [  0.5108092   -4.8365      -1.5201284 ]\n",
      " [  0.54332745  -4.8222976   -1.2844684 ]\n",
      " [  2.1453795   -4.739342    -1.5112796 ]\n",
      " [ -1.3425677   -6.8222795   -0.906378  ]\n",
      " [  0.41502494  -5.2056932   -1.2143389 ]\n",
      " [  6.971504    -0.9764455    0.32540232]\n",
      " [  2.4562373   -1.7419997    0.15299451]\n",
      " [  6.3656607    0.3953996   -0.77480364]\n",
      " [  4.795265    -1.0651152    0.08960427]\n",
      " [  6.065858    -0.6574817    0.07880733]\n",
      " [  7.013703     1.5271344   -0.6114295 ]\n",
      " [ -0.74355793  -4.062856    -0.3486526 ]\n",
      " [  6.395657     1.2668979   -0.75653356]\n",
      " [  5.070359     0.0498455   -0.0410411 ]\n",
      " [  7.451902     0.32616654  -0.6298043 ]\n",
      " [  5.286266    -1.9710497   -1.0307007 ]\n",
      " [  4.453557    -1.6472337   -0.13997102]\n",
      " [  5.855763    -0.6950904   -0.8821346 ]\n",
      " [  2.1786146   -1.6995418    0.4018763 ]\n",
      " [  2.3266947   -1.040663     0.20467456]\n",
      " [  6.1184874   -1.7568846   -0.47662672]\n",
      " [  5.002016    -1.0854203   -0.35605693]\n",
      " [  7.71334      1.2145101   -0.65904784]\n",
      " [  6.962968     1.8534219   -0.41173142]\n",
      " [  2.943827    -3.266796     0.76314116]\n",
      " [  6.6538672   -0.38985738  -0.8030782 ]\n",
      " [  1.9283136   -1.664392     0.01609915]\n",
      " [  6.9262233    1.7097338   -0.5559624 ]\n",
      " [  3.4710197   -2.6257045   -0.3241376 ]\n",
      " [  6.374327    -0.5565688   -0.44678771]\n",
      " [  6.3004375    0.78231066  -0.9514303 ]\n",
      " [  3.06683     -2.6484964   -0.60899985]\n",
      " [  2.7877004   -2.2963862   -0.8818024 ]\n",
      " [  5.351147    -0.9128211    0.11371813]\n",
      " [  5.8878       0.80829275  -0.99263865]\n",
      " [  6.352074     1.1941497   -0.8215636 ]\n",
      " [  7.7044535    1.2101582   -0.75302   ]\n",
      " [  5.550488    -0.9395425    0.17283222]\n",
      " [  3.7058558   -2.7549615   -0.28126442]\n",
      " [  3.9495046   -1.5690458    0.7767001 ]\n",
      " [  6.987523     1.226318    -0.96530443]\n",
      " [  6.717887    -1.5090271    0.03825437]\n",
      " [  4.9993443   -1.1957855   -0.30474186]\n",
      " [  2.4213681   -2.3890288   -0.929155  ]\n",
      " [  6.015345    -0.80328584  -1.2030362 ]\n",
      " [  6.5357056   -0.9149845   -0.5957449 ]\n",
      " [  6.069175    -1.4279162   -1.4960831 ]\n",
      " [  2.4562373   -1.7419997    0.15299451]\n",
      " [  6.741744    -0.23304977  -0.34761602]\n",
      " [  6.977688    -0.8317419   -0.4127716 ]\n",
      " [  5.947095    -1.4818071   -1.1680657 ]\n",
      " [  3.6010756   -2.4418015    0.16657752]\n",
      " [  5.137642    -1.7520492   -0.80126977]\n",
      " [  6.469763    -1.8726795   -0.03288846]\n",
      " [  2.5900347   -1.8111978   -0.524141  ]]\n",
      "t-SNE Result (4 components):\n",
      " [ 0.91877073 -3.1008353   3.0247848   0.63809884]\n"
     ]
    },
    {
     "ename": "ValueError",
     "evalue": "'n_components' should be inferior to 4 for the barnes_hut algorithm as it relies on quad-tree or oct-tree.",
     "output_type": "error",
     "traceback": [
      "\u001b[0;31m---------------------------------------------------------------------------\u001b[0m",
      "\u001b[0;31mValueError\u001b[0m                                Traceback (most recent call last)",
      "Cell \u001b[0;32mIn[9], line 35\u001b[0m\n\u001b[1;32m     33\u001b[0m \u001b[39m# t-SNE 객체 생성 (30 components)\u001b[39;00m\n\u001b[1;32m     34\u001b[0m tsne \u001b[39m=\u001b[39m TSNE(n_components\u001b[39m=\u001b[39m\u001b[39m30\u001b[39m)\n\u001b[0;32m---> 35\u001b[0m tsne_result_30 \u001b[39m=\u001b[39m tsne\u001b[39m.\u001b[39;49mfit_transform(array_df)\n\u001b[1;32m     37\u001b[0m \u001b[39mprint\u001b[39m(\u001b[39m\"\u001b[39m\u001b[39mt-SNE Result (30 components):\u001b[39m\u001b[39m\\n\u001b[39;00m\u001b[39m\"\u001b[39m, tsne_result_30[\u001b[39m1\u001b[39m])\n",
      "File \u001b[0;32m~/miniconda3/envs/torch_night/lib/python3.9/site-packages/sklearn/manifold/_t_sne.py:1119\u001b[0m, in \u001b[0;36mTSNE.fit_transform\u001b[0;34m(self, X, y)\u001b[0m\n\u001b[1;32m   1117\u001b[0m \u001b[39mself\u001b[39m\u001b[39m.\u001b[39m_validate_params()\n\u001b[1;32m   1118\u001b[0m \u001b[39mself\u001b[39m\u001b[39m.\u001b[39m_check_params_vs_input(X)\n\u001b[0;32m-> 1119\u001b[0m embedding \u001b[39m=\u001b[39m \u001b[39mself\u001b[39;49m\u001b[39m.\u001b[39;49m_fit(X)\n\u001b[1;32m   1120\u001b[0m \u001b[39mself\u001b[39m\u001b[39m.\u001b[39membedding_ \u001b[39m=\u001b[39m embedding\n\u001b[1;32m   1121\u001b[0m \u001b[39mreturn\u001b[39;00m \u001b[39mself\u001b[39m\u001b[39m.\u001b[39membedding_\n",
      "File \u001b[0;32m~/miniconda3/envs/torch_night/lib/python3.9/site-packages/sklearn/manifold/_t_sne.py:886\u001b[0m, in \u001b[0;36mTSNE._fit\u001b[0;34m(self, X, skip_num_points)\u001b[0m\n\u001b[1;32m    879\u001b[0m         \u001b[39mraise\u001b[39;00m \u001b[39mTypeError\u001b[39;00m(\n\u001b[1;32m    880\u001b[0m             \u001b[39m'\u001b[39m\u001b[39mTSNE with method=\u001b[39m\u001b[39m\"\u001b[39m\u001b[39mexact\u001b[39m\u001b[39m\"\u001b[39m\u001b[39m does not accept sparse \u001b[39m\u001b[39m'\u001b[39m\n\u001b[1;32m    881\u001b[0m             \u001b[39m'\u001b[39m\u001b[39mprecomputed distance matrix. Use method=\u001b[39m\u001b[39m\"\u001b[39m\u001b[39mbarnes_hut\u001b[39m\u001b[39m\"\u001b[39m\u001b[39m \u001b[39m\u001b[39m'\u001b[39m\n\u001b[1;32m    882\u001b[0m             \u001b[39m\"\u001b[39m\u001b[39mor provide the dense distance matrix.\u001b[39m\u001b[39m\"\u001b[39m\n\u001b[1;32m    883\u001b[0m         )\n\u001b[1;32m    885\u001b[0m \u001b[39mif\u001b[39;00m \u001b[39mself\u001b[39m\u001b[39m.\u001b[39mmethod \u001b[39m==\u001b[39m \u001b[39m\"\u001b[39m\u001b[39mbarnes_hut\u001b[39m\u001b[39m\"\u001b[39m \u001b[39mand\u001b[39;00m \u001b[39mself\u001b[39m\u001b[39m.\u001b[39mn_components \u001b[39m>\u001b[39m \u001b[39m3\u001b[39m:\n\u001b[0;32m--> 886\u001b[0m     \u001b[39mraise\u001b[39;00m \u001b[39mValueError\u001b[39;00m(\n\u001b[1;32m    887\u001b[0m         \u001b[39m\"\u001b[39m\u001b[39m'\u001b[39m\u001b[39mn_components\u001b[39m\u001b[39m'\u001b[39m\u001b[39m should be inferior to 4 for the \u001b[39m\u001b[39m\"\u001b[39m\n\u001b[1;32m    888\u001b[0m         \u001b[39m\"\u001b[39m\u001b[39mbarnes_hut algorithm as it relies on \u001b[39m\u001b[39m\"\u001b[39m\n\u001b[1;32m    889\u001b[0m         \u001b[39m\"\u001b[39m\u001b[39mquad-tree or oct-tree.\u001b[39m\u001b[39m\"\u001b[39m\n\u001b[1;32m    890\u001b[0m     )\n\u001b[1;32m    891\u001b[0m random_state \u001b[39m=\u001b[39m check_random_state(\u001b[39mself\u001b[39m\u001b[39m.\u001b[39mrandom_state)\n\u001b[1;32m    893\u001b[0m n_samples \u001b[39m=\u001b[39m X\u001b[39m.\u001b[39mshape[\u001b[39m0\u001b[39m]\n",
      "\u001b[0;31mValueError\u001b[0m: 'n_components' should be inferior to 4 for the barnes_hut algorithm as it relies on quad-tree or oct-tree."
     ]
    }
   ],
   "source": [
    "import pandas as pd\n",
    "import numpy as np\n",
    "from sklearn.manifold import TSNE\n",
    "from sklearn.datasets import load_iris\n",
    "\n",
    "# NaN 값 처리: NaN은 0으로 변환\n",
    "def handle_nan_values(array):\n",
    "    return np.nan_to_num(array)\n",
    "\n",
    "# 데이터 로드 (예제 데이터로 아이리스 데이터 사용)\n",
    "data = load_iris()\n",
    "X = handle_nan_values(data.data)\n",
    "\n",
    "# t-SNE 객체 생성\n",
    "tsne = TSNE(n_components=3)\n",
    "tsne_result = tsne.fit_transform(X)\n",
    "\n",
    "print(\"t-SNE Result:\\n\", tsne_result)\n",
    "\n",
    "# House Prices 데이터 로드 및 전처리\n",
    "df = pd.read_csv('./Data/house-prices-advanced-regression-techniques/train.csv')\n",
    "numeric_df = df.select_dtypes(include=[np.number])\n",
    "array_df = handle_nan_values(np.array(numeric_df.iloc[:, :36]))\n",
    "\n",
    "\n",
    "# t-SNE 객체 생성\n",
    "tsne = TSNE(n_components=4, method='exact')\n",
    "tsne_result_4 = tsne.fit_transform(array_df)\n",
    "\n",
    "print(\"t-SNE Result (4 components):\\n\", tsne_result_4[1])\n",
    "\n",
    "\n"
   ]
  },
  {
   "cell_type": "markdown",
   "metadata": {},
   "source": [
    "\n",
    "ValueError: 'n_components' should be inferior to 4 for the barnes_hut algorithm as it relies on quad-tree or oct-tree.  \n",
    "t-sne를 사용하였을떄 barnes_hut 알고리즘으로 컴포넌트가 4보다 클때 발생하는 오류임    \n",
    "메소드를 exact 로하면 더큰 차원에서도 할수 있는것임 "
   ]
  },
  {
   "cell_type": "code",
   "execution_count": 10,
   "metadata": {},
   "outputs": [
    {
     "name": "stdout",
     "output_type": "stream",
     "text": [
      "Input Vector: [ 2.   1.  -2.1]\n",
      "Output Probabilities: [0.72230739 0.26572204 0.01197057]\n",
      "Sum of Probabilities: 0.9999999999999999\n"
     ]
    }
   ],
   "source": [
    "import numpy as np\n",
    "\n",
    "def softmax(x):\n",
    "    exp_x = np.exp(x - np.max(x))  # 지수 함수 계산 및 최대값 보정\n",
    "    return exp_x / exp_x.sum(axis=0)\n",
    "\n",
    "# 입력 벡터\n",
    "input_vector = np.array([2.0, 1.0, -2.1])\n",
    "\n",
    "# 소프트맥스 함수 적용\n",
    "output_probs = softmax(input_vector)\n",
    "\n",
    "print(\"Input Vector:\", input_vector)\n",
    "\n",
    "print(\"Output Probabilities:\", output_probs)\n",
    "print(\"Sum of Probabilities:\", np.sum(output_probs))"
   ]
  },
  {
   "cell_type": "code",
   "execution_count": 12,
   "metadata": {},
   "outputs": [
    {
     "data": {
      "text/plain": [
       "array([0.        , 0.        , 0.        , 0.        , 0.        ,\n",
       "       0.28829557, 0.        , 0.        , 0.        , 0.71170413],\n",
       "      dtype=float32)"
      ]
     },
     "execution_count": 12,
     "metadata": {},
     "output_type": "execute_result"
    }
   ],
   "source": [
    "a = TSNE_attention(array_df, n_components=30, dim_info=10).attention(threshold=True)[0]\n",
    "a"
   ]
  },
  {
   "cell_type": "code",
   "execution_count": 20,
   "metadata": {},
   "outputs": [],
   "source": [
    "n_components = 30\n",
    "dim_info = 10\n",
    "attention_query = np.random.rand(n_components, dim_info)\n",
    "attention_key = np.random.rand(n_components, dim_info)\n",
    "attention_value = np.random.rand(n_components, dim_info)"
   ]
  },
  {
   "cell_type": "code",
   "execution_count": 21,
   "metadata": {},
   "outputs": [
    {
     "data": {
      "text/plain": [
       "30"
      ]
     },
     "execution_count": 21,
     "metadata": {},
     "output_type": "execute_result"
    }
   ],
   "source": [
    "attention_query.shape[0]"
   ]
  },
  {
   "cell_type": "code",
   "execution_count": 28,
   "metadata": {},
   "outputs": [
    {
     "name": "stdout",
     "output_type": "stream",
     "text": [
      "[0.        0.        0.        0.        0.        0.1895373 0.\n",
      " 0.        0.        0.8104624]\n"
     ]
    }
   ],
   "source": [
    "ta = TSNE_attention(array_df, n_components, dim_info)\n",
    "\n",
    "\n",
    "attention_result = ta.attention(threshold=True)\n",
    "print(attention_result[0])"
   ]
  },
  {
   "cell_type": "code",
   "execution_count": 29,
   "metadata": {},
   "outputs": [
    {
     "name": "stdout",
     "output_type": "stream",
     "text": [
      "[0.19999926 0.         0.         0.         0.26954177 0.\n",
      " 0.15057392 0.         0.         0.26704443]\n"
     ]
    }
   ],
   "source": [
    "print(attention_result[1])"
   ]
  },
  {
   "cell_type": "markdown",
   "metadata": {},
   "source": [
    "t-sne에서는 결과인 인베딩 값을 사용하여 어텐션을 계산함 "
   ]
  },
  {
   "cell_type": "code",
   "execution_count": 1,
   "metadata": {},
   "outputs": [
    {
     "data": {
      "text/plain": [
       "[[0],\n",
       " [1, 2, 12, 23],\n",
       " [3, 5, 6, 7, 11, 12, 15, 18, 22, 23, 24, 25, 26, 27, 28],\n",
       " [4]]"
      ]
     },
     "execution_count": 1,
     "metadata": {},
     "output_type": "execute_result"
    }
   ],
   "source": [
    "def quick_sort(arr):\n",
    "    def sort(low, high):\n",
    "        if high <= low:\n",
    "            return\n",
    "\n",
    "        mid = partition(low, high)\n",
    "        sort(low, mid - 1)\n",
    "        sort(mid, high)\n",
    "\n",
    "    def partition(low, high):\n",
    "        pivot = arr[(low + high) // 2]\n",
    "        while low <= high:\n",
    "            while arr[low] < pivot:\n",
    "                low += 1\n",
    "            while arr[high] > pivot:\n",
    "                high -= 1\n",
    "            if low <= high:\n",
    "                arr[low], arr[high] = arr[high], arr[low]\n",
    "                low, high = low + 1, high - 1\n",
    "        return low\n",
    "\n",
    "    sort(0, len(arr) - 1)\n",
    "\n",
    "def filter_sublists(input_list):\n",
    "    # 결과 리스트 초기화\n",
    "    result = []\n",
    "    \n",
    "    for sublist in input_list:\n",
    "        # 현재 서브리스트 복사 후 정렬\n",
    "        sorted_sublist = sublist.copy()\n",
    "        quick_sort(sorted_sublist)\n",
    "        \n",
    "        # 현재 정렬된 서브리스트가 다른 서브리스트에 완전히 포함되는지 확인\n",
    "        is_subset = any(all(item in other for item in sorted_sublist) for other in input_list if other != sublist)\n",
    "        \n",
    "        # 현재 서브리스트가 다른 서브리스트에 포함되지 않는 경우 결과 리스트에 추가\n",
    "        if not is_subset:\n",
    "            result.append(sorted_sublist)\n",
    "    \n",
    "    return result\n",
    "\n",
    "# 주어진 입력에 대해 함수 실행\n",
    "input_data = [[0], [1, 2, 12], [1, 2, 12, 23], \n",
    "              [3, 5, 6, 7, 11, 12, 15, 18, 22, 23, 24, 25, 26, 27, 28], \n",
    "              [4], [3, 5, 6, 7, 18, 24, 25], [3, 5, 6, 18, 24, 25]]\n",
    "output_data = filter_sublists(input_data)\n",
    "output_data\n"
   ]
  },
  {
   "cell_type": "code",
   "execution_count": null,
   "metadata": {},
   "outputs": [],
   "source": []
  }
 ],
 "metadata": {
  "kernelspec": {
   "display_name": "torch_night",
   "language": "python",
   "name": "python3"
  },
  "language_info": {
   "codemirror_mode": {
    "name": "ipython",
    "version": 3
   },
   "file_extension": ".py",
   "mimetype": "text/x-python",
   "name": "python",
   "nbconvert_exporter": "python",
   "pygments_lexer": "ipython3",
   "version": "3.9.16"
  },
  "orig_nbformat": 4
 },
 "nbformat": 4,
 "nbformat_minor": 2
}
