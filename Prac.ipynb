{
 "cells": [
  {
   "cell_type": "code",
   "execution_count": 2,
   "metadata": {},
   "outputs": [],
   "source": [
    "from util import dataloader\n",
    "from util import infogain\n",
    "from util import cluster\n",
    "from util import models\n",
    "from util.error_func import pearson_correlation_coefficient_loss_function\n",
    "import torch\n"
   ]
  },
  {
   "cell_type": "code",
   "execution_count": 3,
   "metadata": {},
   "outputs": [],
   "source": [
    "x, y = dataloader.data_load('boston', 'standardization')\n",
    "fa_result = infogain.Feature_infogain(x).FA()\n",
    "cluster_result = cluster.Cluster_Func(fa_result).cos_sim()\n",
    "input1, input2 = models.feature_combination(x, fa_result, cluster_result).subset_data()"
   ]
  },
  {
   "cell_type": "code",
   "execution_count": 4,
   "metadata": {},
   "outputs": [
    {
     "name": "stdout",
     "output_type": "stream",
     "text": [
      "Epoch [5/500], Loss: 8.5144\n",
      "Epoch [10/500], Loss: 8.5367\n",
      "Epoch [15/500], Loss: 8.5401\n",
      "Epoch [20/500], Loss: 8.5407\n",
      "Epoch [25/500], Loss: 8.5404\n",
      "Epoch [30/500], Loss: 8.5395\n",
      "Epoch [35/500], Loss: 8.5382\n",
      "Epoch [40/500], Loss: 8.5366\n",
      "Epoch [45/500], Loss: 8.5346\n",
      "Epoch [50/500], Loss: 8.5322\n",
      "Epoch [55/500], Loss: 8.5293\n",
      "Epoch [60/500], Loss: 8.5257\n",
      "Epoch [65/500], Loss: 8.5214\n",
      "Epoch [70/500], Loss: 8.5159\n",
      "Epoch [75/500], Loss: 8.5090\n",
      "Epoch [80/500], Loss: 8.4999\n",
      "Epoch [85/500], Loss: 8.4875\n",
      "Epoch [90/500], Loss: 8.4701\n",
      "Epoch [95/500], Loss: 8.4442\n",
      "Epoch [100/500], Loss: 8.4031\n",
      "Epoch [105/500], Loss: 8.3308\n",
      "Epoch [110/500], Loss: 8.1780\n",
      "Epoch [115/500], Loss: 7.6536\n",
      "Epoch [120/500], Loss: 6.5568\n",
      "Epoch [125/500], Loss: 6.1547\n",
      "Epoch [130/500], Loss: 6.0171\n",
      "Epoch [135/500], Loss: 6.0326\n",
      "Epoch [140/500], Loss: 6.0631\n",
      "Epoch [145/500], Loss: 6.0420\n",
      "Epoch [150/500], Loss: 6.0061\n",
      "Epoch [155/500], Loss: 6.0120\n",
      "Epoch [160/500], Loss: 5.9991\n",
      "Epoch [165/500], Loss: 6.0127\n",
      "Epoch [170/500], Loss: 5.9995\n",
      "Epoch [175/500], Loss: 5.9993\n",
      "Epoch [180/500], Loss: 5.9942\n",
      "Epoch [185/500], Loss: 5.9964\n",
      "Epoch [190/500], Loss: 5.9864\n",
      "Epoch [195/500], Loss: 5.9867\n",
      "Epoch [200/500], Loss: 5.9828\n",
      "Epoch [205/500], Loss: 6.0171\n",
      "Epoch [210/500], Loss: 6.1363\n",
      "Epoch [215/500], Loss: 6.1154\n",
      "Epoch [220/500], Loss: 6.0605\n",
      "Epoch [225/500], Loss: 6.0335\n",
      "Epoch [230/500], Loss: 5.9609\n",
      "Epoch [235/500], Loss: 5.9656\n",
      "Epoch [240/500], Loss: 6.0595\n",
      "Epoch [245/500], Loss: 5.9504\n",
      "Epoch [250/500], Loss: 6.0868\n",
      "Epoch [255/500], Loss: 6.1311\n",
      "Epoch [260/500], Loss: 6.0374\n",
      "Epoch [265/500], Loss: 5.9193\n",
      "Epoch [270/500], Loss: 5.9169\n",
      "Epoch [275/500], Loss: 5.9035\n",
      "Epoch [280/500], Loss: 6.1082\n",
      "Epoch [285/500], Loss: 5.9219\n",
      "Epoch [290/500], Loss: 5.9078\n",
      "Epoch [295/500], Loss: 5.8843\n",
      "Epoch [300/500], Loss: 5.9269\n",
      "Epoch [305/500], Loss: 5.9325\n",
      "Epoch [310/500], Loss: 5.9172\n",
      "Epoch [315/500], Loss: 5.8780\n",
      "Epoch [320/500], Loss: 5.8755\n",
      "Epoch [325/500], Loss: 5.8732\n",
      "Epoch [330/500], Loss: 5.8767\n",
      "Epoch [335/500], Loss: 5.8670\n",
      "Epoch [340/500], Loss: 5.8661\n",
      "Epoch [345/500], Loss: 5.8683\n",
      "Epoch [350/500], Loss: 5.8582\n",
      "Epoch [355/500], Loss: 5.8576\n",
      "Epoch [360/500], Loss: 5.8729\n",
      "Epoch [365/500], Loss: 5.8973\n",
      "Epoch [370/500], Loss: 5.9241\n",
      "Epoch [375/500], Loss: 5.8788\n",
      "Epoch [380/500], Loss: 5.9176\n",
      "Epoch [385/500], Loss: 5.8885\n",
      "Epoch [390/500], Loss: 5.9859\n",
      "Epoch [395/500], Loss: 6.0338\n",
      "Epoch [400/500], Loss: 5.8585\n",
      "Epoch [405/500], Loss: 5.9172\n",
      "Epoch [410/500], Loss: 5.8525\n",
      "Epoch [415/500], Loss: 5.8526\n",
      "Epoch [420/500], Loss: 5.8660\n",
      "Epoch [425/500], Loss: 5.8537\n",
      "Epoch [430/500], Loss: 5.8550\n",
      "Epoch [435/500], Loss: 6.0052\n",
      "Epoch [440/500], Loss: 5.8910\n",
      "Epoch [445/500], Loss: 5.9446\n",
      "Epoch [450/500], Loss: 5.8454\n",
      "Epoch [455/500], Loss: 5.8586\n",
      "Epoch [460/500], Loss: 5.8535\n",
      "Epoch [465/500], Loss: 5.9034\n",
      "Epoch [470/500], Loss: 5.8536\n",
      "Epoch [475/500], Loss: 5.8453\n",
      "Epoch [480/500], Loss: 5.8462\n",
      "Epoch [485/500], Loss: 5.8775\n",
      "Epoch [490/500], Loss: 5.8854\n",
      "Epoch [495/500], Loss: 5.9740\n",
      "Epoch [500/500], Loss: 5.8579\n"
     ]
    }
   ],
   "source": [
    "model = models.Attention_512(n_factor=11)\n",
    "optimizer = torch.optim.Adam(model.parameters(), lr=0.0001)\n",
    "\n",
    "num_epochs = 500\n",
    "for epoch in range(num_epochs):\n",
    "    reconstructed = model(input1, input2, 506)\n",
    "    loss = pearson_correlation_coefficient_loss_function(reconstructed)\n",
    "    optimizer.zero_grad()\n",
    "    loss.backward()\n",
    "    optimizer.step()\n",
    "    torch.autograd.set_detect_anomaly(True)\n",
    "\n",
    "    if (epoch+1) % 5 == 0:\n",
    "        print(f'Epoch [{epoch+1}/{num_epochs}], Loss: {loss.item():.4f}')"
   ]
  },
  {
   "cell_type": "code",
   "execution_count": 6,
   "metadata": {},
   "outputs": [
    {
     "data": {
      "text/plain": [
       "(506, 4)"
      ]
     },
     "execution_count": 6,
     "metadata": {},
     "output_type": "execute_result"
    }
   ],
   "source": [
    "new_data = torch.Tensor.cpu(model.total_result).detach().numpy()\n",
    "new_data.shape"
   ]
  },
  {
   "cell_type": "code",
   "execution_count": null,
   "metadata": {},
   "outputs": [],
   "source": []
  }
 ],
 "metadata": {
  "kernelspec": {
   "display_name": "torch",
   "language": "python",
   "name": "python3"
  },
  "language_info": {
   "codemirror_mode": {
    "name": "ipython",
    "version": 3
   },
   "file_extension": ".py",
   "mimetype": "text/x-python",
   "name": "python",
   "nbconvert_exporter": "python",
   "pygments_lexer": "ipython3",
   "version": "3.11.5"
  },
  "orig_nbformat": 4
 },
 "nbformat": 4,
 "nbformat_minor": 2
}
