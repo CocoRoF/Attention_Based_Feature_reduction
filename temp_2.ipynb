{
 "cells": [
  {
   "cell_type": "code",
   "execution_count": 21,
   "metadata": {},
   "outputs": [],
   "source": [
    "import pandas as pd\n",
    "import numpy as np\n",
    "\n",
    "df = pd.read_csv('./Data/house-prices-advanced-regression-techniques/train.csv')\n",
    "numeric_df = df.select_dtypes(include=['int', 'float'])"
   ]
  },
  {
   "cell_type": "code",
   "execution_count": 27,
   "metadata": {},
   "outputs": [],
   "source": [
    "numeric_df = numeric_df.dropna(axis=0)\n",
    "numeric_df.reset_index(inplace=True, drop=True)"
   ]
  },
  {
   "cell_type": "code",
   "execution_count": 29,
   "metadata": {},
   "outputs": [
    {
     "data": {
      "text/plain": [
       "array([[6.000e+01, 6.500e+01, 8.450e+03, ..., 0.000e+00, 0.000e+00,\n",
       "        2.000e+00],\n",
       "       [2.000e+01, 8.000e+01, 9.600e+03, ..., 0.000e+00, 0.000e+00,\n",
       "        5.000e+00],\n",
       "       [6.000e+01, 6.800e+01, 1.125e+04, ..., 0.000e+00, 0.000e+00,\n",
       "        9.000e+00],\n",
       "       ...,\n",
       "       [7.000e+01, 6.600e+01, 9.042e+03, ..., 0.000e+00, 2.500e+03,\n",
       "        5.000e+00],\n",
       "       [2.000e+01, 6.800e+01, 9.717e+03, ..., 0.000e+00, 0.000e+00,\n",
       "        4.000e+00],\n",
       "       [2.000e+01, 7.500e+01, 9.937e+03, ..., 0.000e+00, 0.000e+00,\n",
       "        6.000e+00]])"
      ]
     },
     "execution_count": 29,
     "metadata": {},
     "output_type": "execute_result"
    }
   ],
   "source": [
    "array_df = np.array(numeric_df.iloc[:, 1:36])\n",
    "array_df"
   ]
  },
  {
   "cell_type": "code",
   "execution_count": 24,
   "metadata": {},
   "outputs": [],
   "source": [
    "from util.module import *"
   ]
  },
  {
   "cell_type": "code",
   "execution_count": 39,
   "metadata": {},
   "outputs": [],
   "source": [
    "temp = TSNE_attention(array_df, 2, 5)"
   ]
  },
  {
   "cell_type": "code",
   "execution_count": 40,
   "metadata": {},
   "outputs": [
    {
     "data": {
      "text/plain": [
       "array([[-9.207841 , 12.823979 ],\n",
       "       [ 6.0130215, -7.724616 ],\n",
       "       [21.964088 , 13.025735 ],\n",
       "       ...,\n",
       "       [-1.8863091,  1.1017623],\n",
       "       [ 1.3417985, -6.2756624],\n",
       "       [ 9.080427 , -7.0151386]], dtype=float32)"
      ]
     },
     "execution_count": 40,
     "metadata": {},
     "output_type": "execute_result"
    }
   ],
   "source": [
    "temp.tsne_datagg"
   ]
  },
  {
   "cell_type": "code",
   "execution_count": null,
   "metadata": {},
   "outputs": [],
   "source": []
  }
 ],
 "metadata": {
  "kernelspec": {
   "display_name": "langchain",
   "language": "python",
   "name": "python3"
  },
  "language_info": {
   "codemirror_mode": {
    "name": "ipython",
    "version": 3
   },
   "file_extension": ".py",
   "mimetype": "text/x-python",
   "name": "python",
   "nbconvert_exporter": "python",
   "pygments_lexer": "ipython3",
   "version": "3.10.9"
  },
  "orig_nbformat": 4
 },
 "nbformat": 4,
 "nbformat_minor": 2
}
