{
 "cells": [
  {
   "cell_type": "code",
   "execution_count": 54,
   "metadata": {},
   "outputs": [
    {
     "name": "stdout",
     "output_type": "stream",
     "text": [
      "Loadings:\n",
      " [[ 0.99595672 -0.00932682  0.03526642]\n",
      " [-0.10813897  0.75599036 -0.07988971]\n",
      " [ 0.86124923 -0.41316935  0.28730365]\n",
      " [ 0.80078823 -0.31752521  0.49423053]]\n"
     ]
    }
   ],
   "source": [
    "import pandas as pd\n",
    "import numpy as np\n",
    "from factor_analyzer import FactorAnalyzer\n",
    "from sklearn.datasets import load_iris\n",
    "\n",
    "# 데이터 로드 (예제 데이터로 아이리스 데이터 사용)\n",
    "data = load_iris()\n",
    "X = data.data\n",
    "\n",
    "# 요인 분석 객체 생성\n",
    "factor_analyzer = FactorAnalyzer(n_factors=3, rotation=\"varimax\")\n",
    "\n",
    "# 모델 피팅\n",
    "factor_analyzer.fit(X)\n",
    "\n",
    "# 요인 목록 확인\n",
    "loadings = factor_analyzer.loadings_\n",
    "print(\"Loadings:\\n\", loadings)\n",
    "\n",
    "# 요인 분석 결과 시각화 등 추가적인 분석은 필요에 따라 수행할 수 있습니다.\n"
   ]
  },
  {
   "cell_type": "code",
   "execution_count": null,
   "metadata": {},
   "outputs": [],
   "source": []
  },
  {
   "cell_type": "code",
   "execution_count": 55,
   "metadata": {},
   "outputs": [
    {
     "data": {
      "text/html": [
       "<div>\n",
       "<style scoped>\n",
       "    .dataframe tbody tr th:only-of-type {\n",
       "        vertical-align: middle;\n",
       "    }\n",
       "\n",
       "    .dataframe tbody tr th {\n",
       "        vertical-align: top;\n",
       "    }\n",
       "\n",
       "    .dataframe thead th {\n",
       "        text-align: right;\n",
       "    }\n",
       "</style>\n",
       "<table border=\"1\" class=\"dataframe\">\n",
       "  <thead>\n",
       "    <tr style=\"text-align: right;\">\n",
       "      <th></th>\n",
       "      <th>Id</th>\n",
       "      <th>MSSubClass</th>\n",
       "      <th>MSZoning</th>\n",
       "      <th>LotFrontage</th>\n",
       "      <th>LotArea</th>\n",
       "      <th>Street</th>\n",
       "      <th>Alley</th>\n",
       "      <th>LotShape</th>\n",
       "      <th>LandContour</th>\n",
       "      <th>Utilities</th>\n",
       "      <th>...</th>\n",
       "      <th>PoolArea</th>\n",
       "      <th>PoolQC</th>\n",
       "      <th>Fence</th>\n",
       "      <th>MiscFeature</th>\n",
       "      <th>MiscVal</th>\n",
       "      <th>MoSold</th>\n",
       "      <th>YrSold</th>\n",
       "      <th>SaleType</th>\n",
       "      <th>SaleCondition</th>\n",
       "      <th>SalePrice</th>\n",
       "    </tr>\n",
       "  </thead>\n",
       "  <tbody>\n",
       "    <tr>\n",
       "      <th>0</th>\n",
       "      <td>1</td>\n",
       "      <td>60</td>\n",
       "      <td>RL</td>\n",
       "      <td>65.0</td>\n",
       "      <td>8450</td>\n",
       "      <td>Pave</td>\n",
       "      <td>NaN</td>\n",
       "      <td>Reg</td>\n",
       "      <td>Lvl</td>\n",
       "      <td>AllPub</td>\n",
       "      <td>...</td>\n",
       "      <td>0</td>\n",
       "      <td>NaN</td>\n",
       "      <td>NaN</td>\n",
       "      <td>NaN</td>\n",
       "      <td>0</td>\n",
       "      <td>2</td>\n",
       "      <td>2008</td>\n",
       "      <td>WD</td>\n",
       "      <td>Normal</td>\n",
       "      <td>208500</td>\n",
       "    </tr>\n",
       "    <tr>\n",
       "      <th>1</th>\n",
       "      <td>2</td>\n",
       "      <td>20</td>\n",
       "      <td>RL</td>\n",
       "      <td>80.0</td>\n",
       "      <td>9600</td>\n",
       "      <td>Pave</td>\n",
       "      <td>NaN</td>\n",
       "      <td>Reg</td>\n",
       "      <td>Lvl</td>\n",
       "      <td>AllPub</td>\n",
       "      <td>...</td>\n",
       "      <td>0</td>\n",
       "      <td>NaN</td>\n",
       "      <td>NaN</td>\n",
       "      <td>NaN</td>\n",
       "      <td>0</td>\n",
       "      <td>5</td>\n",
       "      <td>2007</td>\n",
       "      <td>WD</td>\n",
       "      <td>Normal</td>\n",
       "      <td>181500</td>\n",
       "    </tr>\n",
       "    <tr>\n",
       "      <th>2</th>\n",
       "      <td>3</td>\n",
       "      <td>60</td>\n",
       "      <td>RL</td>\n",
       "      <td>68.0</td>\n",
       "      <td>11250</td>\n",
       "      <td>Pave</td>\n",
       "      <td>NaN</td>\n",
       "      <td>IR1</td>\n",
       "      <td>Lvl</td>\n",
       "      <td>AllPub</td>\n",
       "      <td>...</td>\n",
       "      <td>0</td>\n",
       "      <td>NaN</td>\n",
       "      <td>NaN</td>\n",
       "      <td>NaN</td>\n",
       "      <td>0</td>\n",
       "      <td>9</td>\n",
       "      <td>2008</td>\n",
       "      <td>WD</td>\n",
       "      <td>Normal</td>\n",
       "      <td>223500</td>\n",
       "    </tr>\n",
       "    <tr>\n",
       "      <th>3</th>\n",
       "      <td>4</td>\n",
       "      <td>70</td>\n",
       "      <td>RL</td>\n",
       "      <td>60.0</td>\n",
       "      <td>9550</td>\n",
       "      <td>Pave</td>\n",
       "      <td>NaN</td>\n",
       "      <td>IR1</td>\n",
       "      <td>Lvl</td>\n",
       "      <td>AllPub</td>\n",
       "      <td>...</td>\n",
       "      <td>0</td>\n",
       "      <td>NaN</td>\n",
       "      <td>NaN</td>\n",
       "      <td>NaN</td>\n",
       "      <td>0</td>\n",
       "      <td>2</td>\n",
       "      <td>2006</td>\n",
       "      <td>WD</td>\n",
       "      <td>Abnorml</td>\n",
       "      <td>140000</td>\n",
       "    </tr>\n",
       "    <tr>\n",
       "      <th>4</th>\n",
       "      <td>5</td>\n",
       "      <td>60</td>\n",
       "      <td>RL</td>\n",
       "      <td>84.0</td>\n",
       "      <td>14260</td>\n",
       "      <td>Pave</td>\n",
       "      <td>NaN</td>\n",
       "      <td>IR1</td>\n",
       "      <td>Lvl</td>\n",
       "      <td>AllPub</td>\n",
       "      <td>...</td>\n",
       "      <td>0</td>\n",
       "      <td>NaN</td>\n",
       "      <td>NaN</td>\n",
       "      <td>NaN</td>\n",
       "      <td>0</td>\n",
       "      <td>12</td>\n",
       "      <td>2008</td>\n",
       "      <td>WD</td>\n",
       "      <td>Normal</td>\n",
       "      <td>250000</td>\n",
       "    </tr>\n",
       "    <tr>\n",
       "      <th>...</th>\n",
       "      <td>...</td>\n",
       "      <td>...</td>\n",
       "      <td>...</td>\n",
       "      <td>...</td>\n",
       "      <td>...</td>\n",
       "      <td>...</td>\n",
       "      <td>...</td>\n",
       "      <td>...</td>\n",
       "      <td>...</td>\n",
       "      <td>...</td>\n",
       "      <td>...</td>\n",
       "      <td>...</td>\n",
       "      <td>...</td>\n",
       "      <td>...</td>\n",
       "      <td>...</td>\n",
       "      <td>...</td>\n",
       "      <td>...</td>\n",
       "      <td>...</td>\n",
       "      <td>...</td>\n",
       "      <td>...</td>\n",
       "      <td>...</td>\n",
       "    </tr>\n",
       "    <tr>\n",
       "      <th>1455</th>\n",
       "      <td>1456</td>\n",
       "      <td>60</td>\n",
       "      <td>RL</td>\n",
       "      <td>62.0</td>\n",
       "      <td>7917</td>\n",
       "      <td>Pave</td>\n",
       "      <td>NaN</td>\n",
       "      <td>Reg</td>\n",
       "      <td>Lvl</td>\n",
       "      <td>AllPub</td>\n",
       "      <td>...</td>\n",
       "      <td>0</td>\n",
       "      <td>NaN</td>\n",
       "      <td>NaN</td>\n",
       "      <td>NaN</td>\n",
       "      <td>0</td>\n",
       "      <td>8</td>\n",
       "      <td>2007</td>\n",
       "      <td>WD</td>\n",
       "      <td>Normal</td>\n",
       "      <td>175000</td>\n",
       "    </tr>\n",
       "    <tr>\n",
       "      <th>1456</th>\n",
       "      <td>1457</td>\n",
       "      <td>20</td>\n",
       "      <td>RL</td>\n",
       "      <td>85.0</td>\n",
       "      <td>13175</td>\n",
       "      <td>Pave</td>\n",
       "      <td>NaN</td>\n",
       "      <td>Reg</td>\n",
       "      <td>Lvl</td>\n",
       "      <td>AllPub</td>\n",
       "      <td>...</td>\n",
       "      <td>0</td>\n",
       "      <td>NaN</td>\n",
       "      <td>MnPrv</td>\n",
       "      <td>NaN</td>\n",
       "      <td>0</td>\n",
       "      <td>2</td>\n",
       "      <td>2010</td>\n",
       "      <td>WD</td>\n",
       "      <td>Normal</td>\n",
       "      <td>210000</td>\n",
       "    </tr>\n",
       "    <tr>\n",
       "      <th>1457</th>\n",
       "      <td>1458</td>\n",
       "      <td>70</td>\n",
       "      <td>RL</td>\n",
       "      <td>66.0</td>\n",
       "      <td>9042</td>\n",
       "      <td>Pave</td>\n",
       "      <td>NaN</td>\n",
       "      <td>Reg</td>\n",
       "      <td>Lvl</td>\n",
       "      <td>AllPub</td>\n",
       "      <td>...</td>\n",
       "      <td>0</td>\n",
       "      <td>NaN</td>\n",
       "      <td>GdPrv</td>\n",
       "      <td>Shed</td>\n",
       "      <td>2500</td>\n",
       "      <td>5</td>\n",
       "      <td>2010</td>\n",
       "      <td>WD</td>\n",
       "      <td>Normal</td>\n",
       "      <td>266500</td>\n",
       "    </tr>\n",
       "    <tr>\n",
       "      <th>1458</th>\n",
       "      <td>1459</td>\n",
       "      <td>20</td>\n",
       "      <td>RL</td>\n",
       "      <td>68.0</td>\n",
       "      <td>9717</td>\n",
       "      <td>Pave</td>\n",
       "      <td>NaN</td>\n",
       "      <td>Reg</td>\n",
       "      <td>Lvl</td>\n",
       "      <td>AllPub</td>\n",
       "      <td>...</td>\n",
       "      <td>0</td>\n",
       "      <td>NaN</td>\n",
       "      <td>NaN</td>\n",
       "      <td>NaN</td>\n",
       "      <td>0</td>\n",
       "      <td>4</td>\n",
       "      <td>2010</td>\n",
       "      <td>WD</td>\n",
       "      <td>Normal</td>\n",
       "      <td>142125</td>\n",
       "    </tr>\n",
       "    <tr>\n",
       "      <th>1459</th>\n",
       "      <td>1460</td>\n",
       "      <td>20</td>\n",
       "      <td>RL</td>\n",
       "      <td>75.0</td>\n",
       "      <td>9937</td>\n",
       "      <td>Pave</td>\n",
       "      <td>NaN</td>\n",
       "      <td>Reg</td>\n",
       "      <td>Lvl</td>\n",
       "      <td>AllPub</td>\n",
       "      <td>...</td>\n",
       "      <td>0</td>\n",
       "      <td>NaN</td>\n",
       "      <td>NaN</td>\n",
       "      <td>NaN</td>\n",
       "      <td>0</td>\n",
       "      <td>6</td>\n",
       "      <td>2008</td>\n",
       "      <td>WD</td>\n",
       "      <td>Normal</td>\n",
       "      <td>147500</td>\n",
       "    </tr>\n",
       "  </tbody>\n",
       "</table>\n",
       "<p>1460 rows × 81 columns</p>\n",
       "</div>"
      ],
      "text/plain": [
       "        Id  MSSubClass MSZoning  LotFrontage  LotArea Street Alley LotShape  \\\n",
       "0        1          60       RL         65.0     8450   Pave   NaN      Reg   \n",
       "1        2          20       RL         80.0     9600   Pave   NaN      Reg   \n",
       "2        3          60       RL         68.0    11250   Pave   NaN      IR1   \n",
       "3        4          70       RL         60.0     9550   Pave   NaN      IR1   \n",
       "4        5          60       RL         84.0    14260   Pave   NaN      IR1   \n",
       "...    ...         ...      ...          ...      ...    ...   ...      ...   \n",
       "1455  1456          60       RL         62.0     7917   Pave   NaN      Reg   \n",
       "1456  1457          20       RL         85.0    13175   Pave   NaN      Reg   \n",
       "1457  1458          70       RL         66.0     9042   Pave   NaN      Reg   \n",
       "1458  1459          20       RL         68.0     9717   Pave   NaN      Reg   \n",
       "1459  1460          20       RL         75.0     9937   Pave   NaN      Reg   \n",
       "\n",
       "     LandContour Utilities  ... PoolArea PoolQC  Fence MiscFeature MiscVal  \\\n",
       "0            Lvl    AllPub  ...        0    NaN    NaN         NaN       0   \n",
       "1            Lvl    AllPub  ...        0    NaN    NaN         NaN       0   \n",
       "2            Lvl    AllPub  ...        0    NaN    NaN         NaN       0   \n",
       "3            Lvl    AllPub  ...        0    NaN    NaN         NaN       0   \n",
       "4            Lvl    AllPub  ...        0    NaN    NaN         NaN       0   \n",
       "...          ...       ...  ...      ...    ...    ...         ...     ...   \n",
       "1455         Lvl    AllPub  ...        0    NaN    NaN         NaN       0   \n",
       "1456         Lvl    AllPub  ...        0    NaN  MnPrv         NaN       0   \n",
       "1457         Lvl    AllPub  ...        0    NaN  GdPrv        Shed    2500   \n",
       "1458         Lvl    AllPub  ...        0    NaN    NaN         NaN       0   \n",
       "1459         Lvl    AllPub  ...        0    NaN    NaN         NaN       0   \n",
       "\n",
       "     MoSold YrSold  SaleType  SaleCondition  SalePrice  \n",
       "0         2   2008        WD         Normal     208500  \n",
       "1         5   2007        WD         Normal     181500  \n",
       "2         9   2008        WD         Normal     223500  \n",
       "3         2   2006        WD        Abnorml     140000  \n",
       "4        12   2008        WD         Normal     250000  \n",
       "...     ...    ...       ...            ...        ...  \n",
       "1455      8   2007        WD         Normal     175000  \n",
       "1456      2   2010        WD         Normal     210000  \n",
       "1457      5   2010        WD         Normal     266500  \n",
       "1458      4   2010        WD         Normal     142125  \n",
       "1459      6   2008        WD         Normal     147500  \n",
       "\n",
       "[1460 rows x 81 columns]"
      ]
     },
     "execution_count": 55,
     "metadata": {},
     "output_type": "execute_result"
    }
   ],
   "source": [
    "df = pd.read_csv('./Data/house-prices-advanced-regression-techniques/train.csv')\n",
    "df"
   ]
  },
  {
   "cell_type": "code",
   "execution_count": 56,
   "metadata": {},
   "outputs": [],
   "source": [
    "numeric_df = df.select_dtypes(include=['int', 'float'])"
   ]
  },
  {
   "cell_type": "code",
   "execution_count": 57,
   "metadata": {},
   "outputs": [
    {
     "name": "stdout",
     "output_type": "stream",
     "text": [
      "<class 'pandas.core.frame.DataFrame'>\n",
      "RangeIndex: 1460 entries, 0 to 1459\n",
      "Data columns (total 38 columns):\n",
      " #   Column         Non-Null Count  Dtype  \n",
      "---  ------         --------------  -----  \n",
      " 0   Id             1460 non-null   int64  \n",
      " 1   MSSubClass     1460 non-null   int64  \n",
      " 2   LotFrontage    1201 non-null   float64\n",
      " 3   LotArea        1460 non-null   int64  \n",
      " 4   OverallQual    1460 non-null   int64  \n",
      " 5   OverallCond    1460 non-null   int64  \n",
      " 6   YearBuilt      1460 non-null   int64  \n",
      " 7   YearRemodAdd   1460 non-null   int64  \n",
      " 8   MasVnrArea     1452 non-null   float64\n",
      " 9   BsmtFinSF1     1460 non-null   int64  \n",
      " 10  BsmtFinSF2     1460 non-null   int64  \n",
      " 11  BsmtUnfSF      1460 non-null   int64  \n",
      " 12  TotalBsmtSF    1460 non-null   int64  \n",
      " 13  1stFlrSF       1460 non-null   int64  \n",
      " 14  2ndFlrSF       1460 non-null   int64  \n",
      " 15  LowQualFinSF   1460 non-null   int64  \n",
      " 16  GrLivArea      1460 non-null   int64  \n",
      " 17  BsmtFullBath   1460 non-null   int64  \n",
      " 18  BsmtHalfBath   1460 non-null   int64  \n",
      " 19  FullBath       1460 non-null   int64  \n",
      " 20  HalfBath       1460 non-null   int64  \n",
      " 21  BedroomAbvGr   1460 non-null   int64  \n",
      " 22  KitchenAbvGr   1460 non-null   int64  \n",
      " 23  TotRmsAbvGrd   1460 non-null   int64  \n",
      " 24  Fireplaces     1460 non-null   int64  \n",
      " 25  GarageYrBlt    1379 non-null   float64\n",
      " 26  GarageCars     1460 non-null   int64  \n",
      " 27  GarageArea     1460 non-null   int64  \n",
      " 28  WoodDeckSF     1460 non-null   int64  \n",
      " 29  OpenPorchSF    1460 non-null   int64  \n",
      " 30  EnclosedPorch  1460 non-null   int64  \n",
      " 31  3SsnPorch      1460 non-null   int64  \n",
      " 32  ScreenPorch    1460 non-null   int64  \n",
      " 33  PoolArea       1460 non-null   int64  \n",
      " 34  MiscVal        1460 non-null   int64  \n",
      " 35  MoSold         1460 non-null   int64  \n",
      " 36  YrSold         1460 non-null   int64  \n",
      " 37  SalePrice      1460 non-null   int64  \n",
      "dtypes: float64(3), int64(35)\n",
      "memory usage: 433.6 KB\n"
     ]
    }
   ],
   "source": [
    "numeric_df.info()"
   ]
  },
  {
   "cell_type": "code",
   "execution_count": 58,
   "metadata": {},
   "outputs": [],
   "source": [
    "array_df = np.array(numeric_df.iloc[:, :36])"
   ]
  },
  {
   "cell_type": "code",
   "execution_count": 59,
   "metadata": {},
   "outputs": [
    {
     "data": {
      "text/plain": [
       "array([[1.000e+00, 6.000e+01, 6.500e+01, ..., 0.000e+00, 0.000e+00,\n",
       "        2.000e+00],\n",
       "       [2.000e+00, 2.000e+01, 8.000e+01, ..., 0.000e+00, 0.000e+00,\n",
       "        5.000e+00],\n",
       "       [3.000e+00, 6.000e+01, 6.800e+01, ..., 0.000e+00, 0.000e+00,\n",
       "        9.000e+00],\n",
       "       ...,\n",
       "       [1.458e+03, 7.000e+01, 6.600e+01, ..., 0.000e+00, 2.500e+03,\n",
       "        5.000e+00],\n",
       "       [1.459e+03, 2.000e+01, 6.800e+01, ..., 0.000e+00, 0.000e+00,\n",
       "        4.000e+00],\n",
       "       [1.460e+03, 2.000e+01, 7.500e+01, ..., 0.000e+00, 0.000e+00,\n",
       "        6.000e+00]])"
      ]
     },
     "execution_count": 59,
     "metadata": {},
     "output_type": "execute_result"
    }
   ],
   "source": [
    "array_df"
   ]
  },
  {
   "cell_type": "code",
   "execution_count": 60,
   "metadata": {},
   "outputs": [
    {
     "name": "stdout",
     "output_type": "stream",
     "text": [
      "Loadings:\n",
      " [-0.1802359   0.06318672  0.40648822 -0.03033483]\n"
     ]
    }
   ],
   "source": [
    "# 요인 분석 객체 생성\n",
    "factor_analyzer = FactorAnalyzer(n_factors=4, rotation=\"varimax\")\n",
    "\n",
    "# 모델 피팅\n",
    "factor_analyzer.fit(array_df)\n",
    "\n",
    "# 요인 목록 확인\n",
    "loadings = factor_analyzer.loadings_\n",
    "print(\"Loadings:\\n\", loadings[1])"
   ]
  },
  {
   "cell_type": "code",
   "execution_count": 61,
   "metadata": {},
   "outputs": [
    {
     "name": "stdout",
     "output_type": "stream",
     "text": [
      "Loadings:\n",
      " [[ 2.17168503e-02  1.28146694e-02 -1.19842420e-02 ... -2.84627884e-03\n",
      "   9.01050685e-04  7.53466642e-04]\n",
      " [ 4.85029874e-02 -3.12270709e-02  6.84908319e-02 ...  2.73698453e-02\n",
      "  -2.33694871e-02  2.01017969e-02]\n",
      " [ 2.10119929e-01  1.81843183e-01  5.09422560e-02 ...  5.65230168e-02\n",
      "  -4.71906496e-02  4.65249653e-02]\n",
      " ...\n",
      " [ 6.15796320e-02  7.87500148e-03 -3.70102493e-03 ...  1.48311472e-03\n",
      "   4.33629309e-03 -2.65655780e-03]\n",
      " [ 6.94056109e-03 -2.21384718e-02 -3.25231151e-03 ... -1.19042972e-03\n",
      "  -7.24802611e-04  9.82872864e-05]\n",
      " [ 3.04106291e-02  1.42837655e-02  7.15188552e-03 ...  4.29937472e-03\n",
      "   2.94817738e-04 -7.31493896e-04]]\n"
     ]
    }
   ],
   "source": [
    "# 요인 분석 객체 생성\n",
    "factor_analyzer = FactorAnalyzer(n_factors=30, rotation=\"varimax\")\n",
    "\n",
    "# 모델 피팅\n",
    "factor_analyzer.fit(array_df)\n",
    "\n",
    "# 요인 목록 확인\n",
    "loadings = factor_analyzer.loadings_\n",
    "print(\"Loadings:\\n\", loadings)"
   ]
  },
  {
   "cell_type": "code",
   "execution_count": 62,
   "metadata": {},
   "outputs": [
    {
     "name": "stdout",
     "output_type": "stream",
     "text": [
      "Input Vector: [ 2.   1.  -2.1]\n",
      "Output Probabilities: [0.72230739 0.26572204 0.01197057]\n",
      "Sum of Probabilities: 0.9999999999999999\n"
     ]
    }
   ],
   "source": [
    "import numpy as np\n",
    "\n",
    "def softmax(x):\n",
    "    exp_x = np.exp(x - np.max(x))  # 지수 함수 계산 및 최대값 보정\n",
    "    return exp_x / exp_x.sum(axis=0)\n",
    "\n",
    "# 입력 벡터\n",
    "input_vector = np.array([2.0, 1.0, -2.1])\n",
    "\n",
    "# 소프트맥스 함수 적용\n",
    "output_probs = softmax(input_vector)\n",
    "\n",
    "print(\"Input Vector:\", input_vector)\n",
    "\n",
    "print(\"Output Probabilities:\", output_probs)\n",
    "print(\"Sum of Probabilities:\", np.sum(output_probs))\n"
   ]
  },
  {
   "cell_type": "code",
   "execution_count": 71,
   "metadata": {},
   "outputs": [],
   "source": [
    "from sklearn.decomposition import PCA\n",
    "\n",
    "class PCA_attention():\n",
    "    def __init__(self, array: np.array, n_components: int, dim_info: int):\n",
    "        self.array = array\n",
    "        self.n_components = n_components\n",
    "        self.dim_info = dim_info\n",
    "        self.n_col = len(array[0])\n",
    "        \n",
    "        # PCA를 사용해서 데이터를 저차원으로 변환\n",
    "        self.pca_data = self.apply_pca()\n",
    "        \n",
    "        # PCA로 변환된 데이터를 Query와 Key로 사용\n",
    "        self.attention_query = self.pca_data[:dim_info]\n",
    "        self.attention_key = self.pca_data[dim_info:2*dim_info]\n",
    "        \n",
    "    def handle_missing_values(self, array):\n",
    "        return np.nan_to_num(array)  # NaN 값을 0으로 대체   \n",
    "    \n",
    "    def apply_pca(self):\n",
    "        pca = PCA(n_components=self.n_components)\n",
    "        return pca.fit_transform(self.array)\n",
    "    \n",
    "    def attention(self, threshold: bool = False, threshold_value: float = 0.1):\n",
    "        query_matrix = self.attention_query\n",
    "        key_matrix = self.attention_key\n",
    "        attention_score = np.apply_along_axis(soft_max, axis=1, arr=(query_matrix.dot(key_matrix.T)))\n",
    "        \n",
    "        if threshold:\n",
    "            return threshold_below(attention_score, threshold_value)\n",
    "        else:\n",
    "            return attention_score\n"
   ]
  },
  {
   "cell_type": "code",
   "execution_count": 75,
   "metadata": {},
   "outputs": [
    {
     "data": {
      "text/plain": [
       "array([0., 0., 0., 0., 0., 1., 0., 0., 0., 0.])"
      ]
     },
     "execution_count": 75,
     "metadata": {},
     "output_type": "execute_result"
    }
   ],
   "source": [
    "a = PCA_attention(array_df, n_components=30, dim_info=10).attention(threshold=True)[0]\n",
    "a"
   ]
  },
  {
   "cell_type": "code",
   "execution_count": 46,
   "metadata": {},
   "outputs": [],
   "source": [
    "# import numpy as np\n",
    "# from factor_analyzer import FactorAnalyzer\n",
    "# from sklearn.decomposition import PCA\n",
    "\n",
    "# def softmax(x):\n",
    "#     exp_x = np.exp(x - np.max(x))\n",
    "#     return exp_x / exp_x.sum(axis=0)\n",
    "\n",
    "# def threshold_below(arr, threshold):\n",
    "#     return np.where(arr <= threshold, 0, arr)\n",
    "\n",
    "# class Factor_attention():\n",
    "#     def __init__(self, array:np.array, n_factors:int, dim_info:int):\n",
    "#         self.array = self.handle_missing_values(array)  # NaN 값을 처리\n",
    "#         self.n_factors = n_factors\n",
    "#         self.dim_info = dim_info\n",
    "#         self.n_col = len(array[0])\n",
    "#         self.loadings = abs(self.factor_analyzer())\n",
    "#         self.attention_query, self.attention_key = self.initialize_query_key_with_pca()\n",
    "\n",
    "#     def handle_missing_values(self, array):\n",
    "#         return np.nan_to_num(array)  # NaN 값을 0으로 대체\n",
    "\n",
    "#     def factor_analyzer(self, rotation:str=\"varimax\"):\n",
    "#         analyzer = FactorAnalyzer(n_factors=self.n_factors, rotation=rotation)\n",
    "#         analyzer.fit(self.array)\n",
    "#         loadings = analyzer.loadings_\n",
    "#         return loadings\n",
    "    \n",
    "#     def initialize_query_key_with_pca(self):\n",
    "#         n_components = min(self.dim_info, self.loadings.shape[0])  # PCA의 주성분 수 설정\n",
    "#         pca = PCA(n_components=n_components)\n",
    "#         pca_result = pca.fit_transform(self.loadings)  # loadings에 PCA 적용\n",
    "            \n",
    "#         query = pca_result[:, :n_components].T  # 첫 n_components 열을 query로 사용하고 전치\n",
    "#         key = pca_result[:, :n_components].T    # 동일하게 key로 사용하고 전치\n",
    "#         return query, key\n",
    "\n",
    "\n",
    "    \n",
    "#     def attention(self, threshold:bool=False, threshold_value:float=0.1):\n",
    "#         query_matrix = self.loadings.dot(self.attention_query)\n",
    "#         key_matrix = self.loadings.dot(self.attention_key)\n",
    "#         attention_score = np.apply_along_axis(softmax, axis=1, arr=(query_matrix.dot(key_matrix.T)))\n",
    "        \n",
    "#         if threshold:\n",
    "#             return threshold_below(attention_score, threshold_value)\n",
    "#         else:\n",
    "#             return attention_score\n",
    "\n",
    "\n"
   ]
  },
  {
   "cell_type": "code",
   "execution_count": 76,
   "metadata": {},
   "outputs": [
    {
     "ename": "ValueError",
     "evalue": "shapes (1460,10) and (30,36) not aligned: 10 (dim 1) != 30 (dim 0)",
     "output_type": "error",
     "traceback": [
      "\u001b[0;31m---------------------------------------------------------------------------\u001b[0m",
      "\u001b[0;31mValueError\u001b[0m                                Traceback (most recent call last)",
      "Cell \u001b[0;32mIn[76], line 1\u001b[0m\n\u001b[0;32m----> 1\u001b[0m a \u001b[39m=\u001b[39m Factor_attention(array_df, n_factors\u001b[39m=\u001b[39;49m\u001b[39m30\u001b[39;49m, dim_info\u001b[39m=\u001b[39;49m\u001b[39m10\u001b[39;49m)\u001b[39m.\u001b[39;49mattention(threshold\u001b[39m=\u001b[39;49m\u001b[39mTrue\u001b[39;49;00m)[\u001b[39m0\u001b[39m]\n\u001b[1;32m      2\u001b[0m a\n",
      "Cell \u001b[0;32mIn[65], line 70\u001b[0m, in \u001b[0;36mFactor_attention.attention\u001b[0;34m(self, threshold, threshold_value)\u001b[0m\n\u001b[1;32m     69\u001b[0m \u001b[39mdef\u001b[39;00m \u001b[39mattention\u001b[39m(\u001b[39mself\u001b[39m, threshold:\u001b[39mbool\u001b[39m\u001b[39m=\u001b[39m\u001b[39mFalse\u001b[39;00m, threshold_value:\u001b[39mfloat\u001b[39m\u001b[39m=\u001b[39m\u001b[39m0.1\u001b[39m):\n\u001b[0;32m---> 70\u001b[0m     query_matrix \u001b[39m=\u001b[39m \u001b[39mself\u001b[39;49m\u001b[39m.\u001b[39;49mattention_query\u001b[39m.\u001b[39;49mdot(\u001b[39mself\u001b[39;49m\u001b[39m.\u001b[39;49mloadings\u001b[39m.\u001b[39;49mT)\n\u001b[1;32m     71\u001b[0m     key_matrix \u001b[39m=\u001b[39m \u001b[39mself\u001b[39m\u001b[39m.\u001b[39mattention_key\u001b[39m.\u001b[39mdot(\u001b[39mself\u001b[39m\u001b[39m.\u001b[39mloadings\u001b[39m.\u001b[39mT)\n\u001b[1;32m     73\u001b[0m     attention_score \u001b[39m=\u001b[39m np\u001b[39m.\u001b[39mapply_along_axis(soft_max, axis\u001b[39m=\u001b[39m\u001b[39m1\u001b[39m, arr\u001b[39m=\u001b[39m(query_matrix\u001b[39m.\u001b[39mdot(key_matrix\u001b[39m.\u001b[39mT)))\n",
      "\u001b[0;31mValueError\u001b[0m: shapes (1460,10) and (30,36) not aligned: 10 (dim 1) != 30 (dim 0)"
     ]
    }
   ],
   "source": [
    "a = Factor_attention(array_df, n_factors=30, dim_info=10).attention(threshold=True)[0]\n",
    "a"
   ]
  },
  {
   "cell_type": "code",
   "execution_count": 77,
   "metadata": {},
   "outputs": [],
   "source": [
    "import numpy as np\n",
    "\n",
    "def threshold_below(arr, threshold):\n",
    "    return np.where(arr <= threshold, 0, arr)\n",
    "\n",
    "# 입력 배열\n",
    "input_array = np.array([0.2, 0.05, 0.3, 0.08, 0.15])\n",
    "\n",
    "# 0.1 이하인 값 0으로 변환\n",
    "output_array = threshold_below(input_array, 0.1)"
   ]
  },
  {
   "cell_type": "code",
   "execution_count": 78,
   "metadata": {},
   "outputs": [
    {
     "data": {
      "text/plain": [
       "array([0.   , 0.   , 0.   , 0.   , 0.   , 0.232, 0.   , 0.   , 0.   ,\n",
       "       0.   ])"
      ]
     },
     "execution_count": 78,
     "metadata": {},
     "output_type": "execute_result"
    }
   ],
   "source": [
    "b = softmax(a).round(3)\n",
    "b = threshold_below(b, 0.1)\n",
    "b"
   ]
  },
  {
   "cell_type": "code",
   "execution_count": 80,
   "metadata": {},
   "outputs": [
    {
     "data": {
      "text/plain": [
       "array([ 0.21 ,  0.182,  0.051,  0.134,  0.049,  0.533,  0.042,  0.016,\n",
       "        0.028,  0.013,  0.095, -0.009,  0.306, -0.079, -0.026,  0.032,\n",
       "       -0.014,  0.297,  0.005,  0.06 ,  0.064,  0.139, -0.035,  0.016,\n",
       "       -0.054,  0.011,  0.018,  0.057, -0.047,  0.047])"
      ]
     },
     "execution_count": 80,
     "metadata": {},
     "output_type": "execute_result"
    }
   ],
   "source": [
    "loadings.round(3)[2]"
   ]
  },
  {
   "cell_type": "code",
   "execution_count": 18,
   "metadata": {},
   "outputs": [],
   "source": [
    "n_factors = 30\n",
    "dim_info = 10\n",
    "attention_query = np.random.rand(n_factors, dim_info)\n",
    "attention_key = np.random.rand(n_factors, dim_info)\n",
    "attention_value = np.random.rand(n_factors, dim_info)"
   ]
  },
  {
   "cell_type": "code",
   "execution_count": 19,
   "metadata": {},
   "outputs": [
    {
     "data": {
      "text/plain": [
       "30"
      ]
     },
     "execution_count": 19,
     "metadata": {},
     "output_type": "execute_result"
    }
   ],
   "source": [
    "attention_query.shape[0]"
   ]
  },
  {
   "cell_type": "code",
   "execution_count": 20,
   "metadata": {},
   "outputs": [
    {
     "data": {
      "text/plain": [
       "array([-0.00924662,  0.03254111,  0.08814101,  0.07045484, -0.47732402,\n",
       "        0.04379345, -0.17004606, -0.17007343, -0.55970759,  0.10550743])"
      ]
     },
     "execution_count": 20,
     "metadata": {},
     "output_type": "execute_result"
    }
   ],
   "source": [
    "loadings[1].dot(attention_query)"
   ]
  },
  {
   "cell_type": "code",
   "execution_count": null,
   "metadata": {},
   "outputs": [],
   "source": []
  }
 ],
 "metadata": {
  "kernelspec": {
   "display_name": "langchain",
   "language": "python",
   "name": "python3"
  },
  "language_info": {
   "codemirror_mode": {
    "name": "ipython",
    "version": 3
   },
   "file_extension": ".py",
   "mimetype": "text/x-python",
   "name": "python",
   "nbconvert_exporter": "python",
   "pygments_lexer": "ipython3",
   "version": "3.9.16"
  },
  "orig_nbformat": 4
 },
 "nbformat": 4,
 "nbformat_minor": 2
}
